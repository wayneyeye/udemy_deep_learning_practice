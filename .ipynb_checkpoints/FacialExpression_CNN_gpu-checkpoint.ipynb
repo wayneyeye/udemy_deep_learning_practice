{
 "cells": [
  {
   "cell_type": "code",
   "execution_count": null,
   "metadata": {
    "collapsed": true
   },
   "outputs": [],
   "source": [
    "import numpy as np\n",
    "import tensorflow as tf\n",
    "import matplotlib.pyplot as plt\n",
    "from scipy.io import loadmat\n",
    "from sklearn.utils import shuffle\n",
    "from IPython.display import clear_output\n",
    "from datetime import datetime\n",
    "import pandas as pd\n",
    "df=pd.read_csv('sample_images/fer2013.csv', sep=',',header=0)\n",
    "df_train=df[df['Usage']=='Training']\n",
    "df_test=df[df['Usage']!='Training']\n",
    "del df\n",
    "\n",
    "def str2image(x):\n",
    "    return np.fromstring(x,sep=' ')\n",
    "\n",
    "def convertFlat2Image(df):\n",
    "    mat=df['pixels'].as_matrix()\n",
    "    r_mat=np.array([str2image(xi).reshape(48,48,1) for xi in mat])\n",
    "    return r_mat\n",
    "\n",
    "X_train=convertFlat2Image(df_train)\n",
    "X_test=convertFlat2Image(df_test)\n",
    "y_train=df_train['emotion'].as_matrix()\n",
    "y_test=df_test['emotion'].as_matrix()"
   ]
  },
  {
   "cell_type": "code",
   "execution_count": 82,
   "metadata": {
    "scrolled": true
   },
   "outputs": [],
   "source": [
    "def error_rate(p,t):\n",
    "    return np.mean(p!=t)\n",
    "\n",
    "\n",
    "def convpool(X,W,b):\n",
    "    conv_out=tf.nn.conv2d(X,W,strides=[1,1,1,1],padding=\"SAME\")\n",
    "    conv_out=tf.nn.bias_add(conv_out,b)\n",
    "    pool_out=tf.nn.max_pool(conv_out,ksize=[1,2,2,1],strides=[1,2,2,1],padding='SAME')\n",
    "    return pool_out\n",
    "\n",
    "def convnopool(X,W,b):\n",
    "    conv_out=tf.nn.conv2d(X,W,strides=[1,1,1,1],padding=\"SAME\")\n",
    "    conv_out=tf.nn.bias_add(conv_out,b)\n",
    "#     pool_out=tf.nn.max_pool(conv_out,ksize=[1,2,2,1],strides=[1,2,2,1],padding='SAME')\n",
    "    return conv_out\n",
    "\n",
    "\n",
    "def init_filter(shape,poolsz):\n",
    "    w=np.random.randn(*shape)/np.sqrt(np.prod(shape[:-1])+shape[-1]*np.prod(shape[:-2]/np.prod(poolsz)))\n",
    "    return w.astype(np.float32)\n",
    "\n",
    "def init_dense(shape):\n",
    "    w=np.random.randn(*shape)/np.sqrt(np.sum(shape))\n",
    "    return w.astype(np.float32)\n",
    "\n",
    "from functools import partial\n",
    "he_init = tf.contrib.layers.variance_scaling_initializer(mode=\"FAN_AVG\") # he init method\n",
    "scale=0.01\n",
    "my_dense=partial(tf.layers.dense,activation=tf.nn.elu,\n",
    "                 kernel_regularizer=tf.contrib.layers.l1_regularizer(scale),\n",
    "                 kernel_initializer=he_init)\n",
    "\n",
    "def main():\n",
    "    Xtrain=X_train[:28000,]/255\n",
    "    Ytrain=y_train[:28000]\n",
    "    Xtest=X_test[:7000,]/255\n",
    "    Ytest=y_test[:7000]\n",
    "    \n",
    "    n_epochs=100\n",
    "    N=Xtrain.shape[0]\n",
    "    batch_sz=100\n",
    "    n_batches=N//batch_sz\n",
    "    pool_sz=(2,2)\n",
    "\n",
    "    learning_rate=0.001\n",
    "    tf.reset_default_graph()\n",
    "    # cnn_pool layer 1\n",
    "    W1_shape=(3,3,1,20)\n",
    "    W1_init=init_filter(W1_shape,pool_sz)\n",
    "    b1_init=np.zeros(W1_shape[-1],dtype=np.float32)\n",
    "\n",
    "    # cnn_pool layer 2\n",
    "    W2_shape=(3,3,20,40)\n",
    "    W2_init=init_filter(W2_shape,pool_sz)\n",
    "    b2_init=np.zeros(W2_shape[-1],dtype=np.float32)\n",
    "    \n",
    "    pool_sz=(1,1)\n",
    "    # cnn_pool layer 3\n",
    "    W3_shape=(5,5,40,80)\n",
    "    W3_init=init_filter(W3_shape,pool_sz)\n",
    "    b3_init=np.zeros(W3_shape[-1],dtype=np.float32)\n",
    "\n",
    "    # cnn_pool layer 4\n",
    "    W4_shape=(3,3,80,128)\n",
    "    W4_init=init_filter(W4_shape,pool_sz)\n",
    "    b4_init=np.zeros(W4_shape[-1],dtype=np.float32)\n",
    "\n",
    "    X=tf.placeholder(tf.float32,shape=(None,48,48,1),name=\"X\")\n",
    "    y=tf.placeholder(tf.int64,shape=(None),name=\"y\")\n",
    "\n",
    "    with tf.name_scope(\"cnn\"):\n",
    "        with tf.device(\"/gpu:0\"):\n",
    "            W1=tf.Variable(W1_init.astype(np.float32))\n",
    "            b1=tf.Variable(b1_init.astype(np.float32))\n",
    "            W2=tf.Variable(W2_init.astype(np.float32))\n",
    "            b2=tf.Variable(b2_init.astype(np.float32)) \n",
    "            Z1=convpool(X,W1,b1)\n",
    "            Z2=convpool(Z1,W2,b2)\n",
    "            W3=tf.Variable(W3_init.astype(np.float32))\n",
    "            b3=tf.Variable(b3_init.astype(np.float32))\n",
    "            Z3=convnopool(Z2,W3,b3)\n",
    "            \n",
    "        with tf.device(\"/gpu:1\"):    \n",
    "            W4=tf.Variable(W4_init.astype(np.float32))\n",
    "            b4=tf.Variable(b4_init.astype(np.float32))\n",
    "            Z4=convnopool(Z3,W4,b4)\n",
    "\n",
    "    n_hidden1=2048\n",
    "    n_hidden2=n_hidden1\n",
    "    n_hidden3=n_hidden2//4\n",
    "    n_outputs=7\n",
    "    with tf.name_scope(\"dnn\"):\n",
    "        dropout_rate=0.4\n",
    "        training=tf.placeholder_with_default(False,shape=(),name=\"training\")\n",
    "        with tf.device(\"/gpu:1\"):\n",
    "            Z_f=tf.contrib.layers.flatten(Z4)\n",
    "\n",
    "            hidden1=my_dense(Z_f,n_hidden1,name=\"hidden1\",kernel_initializer=he_init,\n",
    "                             activation=tf.nn.elu)\n",
    "            hidden1_drop=tf.layers.dropout(hidden1,dropout_rate,training=training)\n",
    "\n",
    "            hidden2=my_dense(hidden1_drop,n_hidden2,name=\"hidden2\",kernel_initializer=he_init,\n",
    "                             activation=tf.nn.elu)\n",
    "            hidden2_drop=tf.layers.dropout(hidden2,dropout_rate,training=training)\n",
    "            \n",
    "            hidden3=my_dense(hidden2_drop,n_hidden3,name=\"hidden3\",kernel_initializer=he_init,\n",
    "                             activation=tf.nn.elu)\n",
    "            hidden3_drop=tf.layers.dropout(hidden3,dropout_rate,training=training)\n",
    "            logits=my_dense(hidden3_drop,n_outputs, kernel_regularizer=tf.contrib.layers.l1_regularizer(scale),\n",
    "                     kernel_initializer=he_init,name=\"outputs\")\n",
    "\n",
    "    with tf.name_scope(\"loss\"):\n",
    "        xentropy=tf.nn.sparse_softmax_cross_entropy_with_logits(labels=y,logits=logits)\n",
    "        loss=tf.reduce_mean(xentropy,name=\"loss\")\n",
    "\n",
    "    with tf.name_scope(\"train\"):\n",
    "        optimizer=tf.train.MomentumOptimizer(learning_rate=learning_rate,\n",
    "                                             momentum=0.95,use_nesterov=True)\n",
    "        training_op=optimizer.minimize(loss)\n",
    "\n",
    "    with tf.name_scope(\"eval\"):\n",
    "        correct=tf.nn.in_top_k(logits,y,1)\n",
    "        accuracy=tf.reduce_mean(tf.cast(correct,tf.float32))\n",
    "\n",
    "    init=tf.global_variables_initializer()\n",
    "    saver=tf.train.Saver()\n",
    "    train_accuracy_save=[]\n",
    "    test_accuracy_save=[]\n",
    "\n",
    "    # calculate average accuracy\n",
    "    beta=0.9\n",
    "    with tf.Session() as sess:\n",
    "        init.run()\n",
    "        for epoch in range(n_epochs):\n",
    "            Xtrain,Ytrain=shuffle(Xtrain,Ytrain)\n",
    "            acc_train=1\n",
    "            for iteration in range(N//batch_sz):\n",
    "                X_batch,y_batch=(Xtrain[iteration*batch_sz:(iteration*batch_sz+batch_sz),:],\n",
    "                                 Ytrain[iteration*batch_sz:(iteration*batch_sz+batch_sz)])\n",
    "                sess.run(training_op,feed_dict={X:X_batch,y:y_batch,training:True}) # dropout=True\n",
    "                acc_train=beta*acc_train+(1-beta)*accuracy.eval(feed_dict={X:X_batch,y:y_batch}) # dropout=True\n",
    "            acc_test=accuracy.eval(feed_dict={X:Xtest,y:Ytest})\n",
    "            clear_output()\n",
    "            print(logits.eval(feed_dict={X:X_batch,y:y_batch})[0])\n",
    "            print(epoch+1,\"Train accuracy: \",acc_train,\" Test accuracy: \",acc_test,end=\"\\r\")\n",
    "            train_accuracy_save.append(acc_train)\n",
    "            test_accuracy_save.append(acc_test)\n",
    "        save_path=saver.save(sess,\"model_checkpoints/fert_cnn.ckpt\")\n",
    "\n",
    "    x_number=range(1,len(test_accuracy_save)+1)\n",
    "    plt.plot(x_number, train_accuracy_save, 'r--', x_number,test_accuracy_save)\n",
    "    plt.show()"
   ]
  },
  {
   "cell_type": "code",
   "execution_count": 83,
   "metadata": {},
   "outputs": [
    {
     "name": "stdout",
     "output_type": "stream",
     "text": [
      "[ 3.14997   -1.         2.455172  -0.6582558  2.7563648 12.039327\n",
      "  4.93764  ]\n",
      "100 Train accuracy:  0.913722603057656  Test accuracy:  0.45114285\r"
     ]
    },
    {
     "data": {
      "image/png": "[encoded data removed]",
      "text/plain": [
       "<matplotlib.figure.Figure at 0x2542bcbe358>"
      ]
     },
     "metadata": {},
     "output_type": "display_data"
    }
   ],
   "source": [
    "if __name__ == \"__main__\":\n",
    "    main()"
   ]
  },
  {
   "cell_type": "code",
   "execution_count": 91,
   "metadata": {},
   "outputs": [
    {
     "data": {
      "text/plain": [
       "Counter({0: 3995, 1: 436, 2: 4097, 3: 7215, 4: 4830, 5: 3171, 6: 4965})"
      ]
     },
     "execution_count": 91,
     "metadata": {},
     "output_type": "execute_result"
    }
   ],
   "source": [
    "import collections\n",
    "collections.Counter(y_train)"
   ]
  },
  {
   "cell_type": "code",
   "execution_count": 92,
   "metadata": {},
   "outputs": [
    {
     "data": {
      "text/plain": [
       "Counter({0: 958, 1: 111, 2: 1024, 3: 1774, 4: 1247, 5: 831, 6: 1233})"
      ]
     },
     "execution_count": 92,
     "metadata": {},
     "output_type": "execute_result"
    }
   ],
   "source": [
    "collections.Counter(y_test)"
   ]
  },
  {
   "cell_type": "code",
   "execution_count": null,
   "metadata": {
    "collapsed": true
   },
   "outputs": [],
   "source": []
  }
 ],
 "metadata": {
  "kernelspec": {
   "display_name": "Python 3",
   "language": "python",
   "name": "python3"
  },
  "language_info": {
   "codemirror_mode": {
    "name": "ipython",
    "version": 3
   },
   "file_extension": ".py",
   "mimetype": "text/x-python",
   "name": "python",
   "nbconvert_exporter": "python",
   "pygments_lexer": "ipython3",
   "version": "3.6.3"
  }
 },
 "nbformat": 4,
 "nbformat_minor": 2
}
