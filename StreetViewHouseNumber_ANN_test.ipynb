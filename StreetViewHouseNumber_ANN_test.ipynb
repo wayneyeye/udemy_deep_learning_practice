{
 "cells": [
  {
   "cell_type": "code",
   "execution_count": 3,
   "metadata": {},
   "outputs": [],
   "source": [
    "import numpy as np\n",
    "import tensorflow as tf\n",
    "import matplotlib.pyplot as plt\n",
    "from scipy.io import loadmat\n",
    "from sklearn.utils import shuffle\n",
    "from IPython.display import clear_output"
   ]
  },
  {
   "cell_type": "code",
   "execution_count": 5,
   "metadata": {},
   "outputs": [
    {
     "name": "stdout",
     "output_type": "stream",
     "text": [
      "INFO:tensorflow:Scale of 0 disables regularizer.\n"
     ]
    }
   ],
   "source": [
    "def flatten(X):\n",
    "    N = X.shape[-1] #matlab is the last dim\n",
    "    flat=np.zeros((N,32*32*3))\n",
    "    for i in range(N):\n",
    "        flat[i]=X[:,:,:,i].reshape(32*32*3)\n",
    "    return flat\n",
    "\n"
   ]
  },
  {
   "cell_type": "code",
   "execution_count": 14,
   "metadata": {},
   "outputs": [
    {
     "name": "stdout",
     "output_type": "stream",
     "text": [
      "100 Train accuracy:  1.0  Test accuracy:  0.9873233\r"
     ]
    }
   ],
   "source": [
    "train=loadmat('sample_images/train_32x32.mat')\n",
    "test=loadmat('sample_images/test_32x32.mat')\n",
    "\n",
    "Xtrain=flatten(train['X'].astype(np.float32)/255)\n",
    "Ytrain=train['y'].flatten()-1\n",
    "\n",
    "Xtest=flatten(test['X'].astype(np.float32)/255)\n",
    "Ytest=test['y'].flatten()-1\n",
    "\n",
    "n_epochs=100\n",
    "N,D=Xtrain.shape\n",
    "batch_sz=500\n",
    "n_batches=N/batch_sz\n",
    "\n",
    "n_hidden1=400\n",
    "n_hidden2=n_hidden1//2\n",
    "n_outputs=10\n",
    "\n",
    "learning_rate=0.0005\n",
    "scale=0.000\n",
    "tf.reset_default_graph()\n",
    "X=tf.placeholder(tf.float32,shape=(None,D),name=\"X\")\n",
    "y=tf.placeholder(tf.int64,shape=(None),name=\"y\")\n",
    "\n",
    "#apply l1 regularizer and he init method\n",
    "from functools import partial\n",
    "he_init = tf.contrib.layers.variance_scaling_initializer(mode=\"FAN_AVG\") # he init method\n",
    "\n",
    "my_dense=partial(tf.layers.dense,activation=tf.nn.elu,\n",
    "                 kernel_regularizer=tf.contrib.layers.l1_regularizer(scale),\n",
    "                 kernel_initializer=he_init)\n",
    "\n",
    "with tf.name_scope(\"dnn\"):\n",
    "    dropout_rate=0.2\n",
    "    training=tf.placeholder_with_default(False,shape=(),name=\"training\")\n",
    "    \n",
    "    hidden1=my_dense(X,n_hidden1,name=\"hidden1\",kernel_initializer=he_init,\n",
    "                     activation=tf.nn.elu) #use ELU\n",
    "    #dropout1\n",
    "    hidden1_drop=tf.layers.dropout(hidden1,dropout_rate,training=training)\n",
    "\n",
    "    hidden2=my_dense(hidden1_drop,n_hidden2,name=\"hidden2\",\n",
    "                     kernel_initializer=he_init,activation=tf.nn.elu) #ELU\n",
    "    #dropout\n",
    "    hidden2_drop=tf.layers.dropout(hidden2,dropout_rate,training=training)\n",
    "    \n",
    "    logits=my_dense(hidden2_drop,n_outputs, kernel_regularizer=tf.contrib.layers.l1_regularizer(scale),\n",
    "                 kernel_initializer=he_init,name=\"outputs\")\n",
    "\n",
    "with tf.name_scope(\"loss\"):\n",
    "    xentropy=tf.nn.sparse_softmax_cross_entropy_with_logits(labels=y,logits=logits)\n",
    "    loss=tf.reduce_mean(xentropy,name=\"loss\")\n",
    "\n",
    "\n",
    "with tf.name_scope(\"train\"):\n",
    "    optimizer=tf.train.RMSPropOptimizer(learning_rate=learning_rate)\n",
    "    training_op=optimizer.minimize(loss)\n",
    "\n",
    "with tf.name_scope(\"eval\"):\n",
    "    correct=tf.nn.in_top_k(logits,y,1)\n",
    "    accuracy=tf.reduce_mean(tf.cast(correct,tf.float32))\n",
    "init=tf.global_variables_initializer()\n",
    "saver=tf.train.Saver()\n",
    "\n",
    "\n",
    "train_accuracy_save=[]\n",
    "test_accuracy_save=[]\n",
    "with tf.Session() as sess:\n",
    "    init.run()\n",
    "    for epoch in range(n_epochs):\n",
    "        Xtrain,Ytrain=shuffle(Xtrain,Ytrain)\n",
    "        for iteration in range(N//batch_sz):\n",
    "            X_batch,y_batch=(Xtrain[iteration*batch_sz:(iteration*batch_sz+batch_sz),:],\n",
    "                             Ytrain[iteration*batch_sz:(iteration*batch_sz+batch_sz)])\n",
    "            sess.run(training_op,feed_dict={X:X_batch,y:y_batch,training:True}) # dropout=True\n",
    "#         print(logits.eval(feed_dict={X:X_batch,y:y_batch}))\n",
    "        acc_train=accuracy.eval(feed_dict={X:X_batch,y:y_batch}) # dropout=True\n",
    "        acc_test=accuracy.eval(feed_dict={X:Xtest,y:Ytest})\n",
    "        clear_output()\n",
    "        print(epoch+1,\"Train accuracy: \",acc_train,\" Test accuracy: \",acc_test,end=\"\\r\")\n",
    "        train_accuracy_save.append(acc_train)\n",
    "        test_accuracy_save.append(acc_test)\n",
    "    save_path=saver.save(sess,\"model_checkpoints/svhn_ann.ckpt\")\n",
    "\n",
    "\n"
   ]
  },
  {
   "cell_type": "code",
   "execution_count": 15,
   "metadata": {},
   "outputs": [
    {
     "data": {
      "text/plain": [
       "[<matplotlib.lines.Line2D at 0x25d1f088e80>,\n",
       " <matplotlib.lines.Line2D at 0x25d1f052b38>]"
      ]
     },
     "execution_count": 15,
     "metadata": {},
     "output_type": "execute_result"
    },
    {
     "data": {
      "image/png": "[encoded data removed]",
      "text/plain": [
       "<Figure size 432x288 with 1 Axes>"
      ]
     },
     "metadata": {},
     "output_type": "display_data"
    }
   ],
   "source": [
    "x_number=range(1,len(test_accuracy_save)+1)\n",
    "plt.plot(x_number, train_accuracy_save, 'r--', x_number,test_accuracy_save)"
   ]
  }
 ],
 "metadata": {
  "kernelspec": {
   "display_name": "Python 3",
   "language": "python",
   "name": "python3"
  },
  "language_info": {
   "codemirror_mode": {
    "name": "ipython",
    "version": 3
   },
   "file_extension": ".py",
   "mimetype": "text/x-python",
   "name": "python",
   "nbconvert_exporter": "python",
   "pygments_lexer": "ipython3",
   "version": "3.6.3"
  }
 },
 "nbformat": 4,
 "nbformat_minor": 2
}
