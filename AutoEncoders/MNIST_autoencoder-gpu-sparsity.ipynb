{
 "cells": [
  {
   "cell_type": "code",
   "execution_count": 1,
   "metadata": {
    "scrolled": true
   },
   "outputs": [
    {
     "name": "stdout",
     "output_type": "stream",
     "text": [
      "WARNING:tensorflow:From e:\\developing\\deep-learning\\tf-gpu\\lib\\site-packages\\tensorflow\\contrib\\learn\\python\\learn\\datasets\\base.py:198: retry (from tensorflow.contrib.learn.python.learn.datasets.base) is deprecated and will be removed in a future version.\n",
      "Instructions for updating:\n",
      "Use the retry module or similar alternatives.\n",
      "WARNING:tensorflow:From <ipython-input-1-cf9c62e99761>:2: read_data_sets (from tensorflow.contrib.learn.python.learn.datasets.mnist) is deprecated and will be removed in a future version.\n",
      "Instructions for updating:\n",
      "Please use alternatives such as official/mnist/dataset.py from tensorflow/models.\n",
      "WARNING:tensorflow:From e:\\developing\\deep-learning\\tf-gpu\\lib\\site-packages\\tensorflow\\contrib\\learn\\python\\learn\\datasets\\mnist.py:260: maybe_download (from tensorflow.contrib.learn.python.learn.datasets.base) is deprecated and will be removed in a future version.\n",
      "Instructions for updating:\n",
      "Please write your own downloading logic.\n",
      "WARNING:tensorflow:From e:\\developing\\deep-learning\\tf-gpu\\lib\\site-packages\\tensorflow\\contrib\\learn\\python\\learn\\datasets\\mnist.py:262: extract_images (from tensorflow.contrib.learn.python.learn.datasets.mnist) is deprecated and will be removed in a future version.\n",
      "Instructions for updating:\n",
      "Please use tf.data to implement this functionality.\n",
      "Extracting MNIST\\train-images-idx3-ubyte.gz\n",
      "WARNING:tensorflow:From e:\\developing\\deep-learning\\tf-gpu\\lib\\site-packages\\tensorflow\\contrib\\learn\\python\\learn\\datasets\\mnist.py:267: extract_labels (from tensorflow.contrib.learn.python.learn.datasets.mnist) is deprecated and will be removed in a future version.\n",
      "Instructions for updating:\n",
      "Please use tf.data to implement this functionality.\n",
      "Extracting MNIST\\train-labels-idx1-ubyte.gz\n",
      "Extracting MNIST\\t10k-images-idx3-ubyte.gz\n",
      "Extracting MNIST\\t10k-labels-idx1-ubyte.gz\n",
      "WARNING:tensorflow:From e:\\developing\\deep-learning\\tf-gpu\\lib\\site-packages\\tensorflow\\contrib\\learn\\python\\learn\\datasets\\mnist.py:290: DataSet.__init__ (from tensorflow.contrib.learn.python.learn.datasets.mnist) is deprecated and will be removed in a future version.\n",
      "Instructions for updating:\n",
      "Please use alternatives such as official/mnist/dataset.py from tensorflow/models.\n"
     ]
    }
   ],
   "source": [
    "import tensorflow.examples.tutorials.mnist.input_data as input_data\n",
    "mnist=input_data.read_data_sets(\"MNIST\")\n",
    "\n",
    "X_train=mnist.train.images\n",
    "y_train=mnist.train.labels\n",
    "X_test=mnist.test.images\n",
    "y_test=mnist.test.labels"
   ]
  },
  {
   "cell_type": "code",
   "execution_count": 30,
   "metadata": {},
   "outputs": [
    {
     "name": "stdout",
     "output_type": "stream",
     "text": [
      "INFO:tensorflow:Restoring parameters from model_checkpoints/mnist_auto_encoder_sparsity.ckpt\n",
      "Model is not compatible with the checkpoint or does not exist\n",
      "99 Train MSE:  -171.24138  Test MSE:  -171.24445\r"
     ]
    },
    {
     "data": {
      "image/png": "[encoded data removed]",
      "text/plain": [
       "<Figure size 432x288 with 10 Axes>"
      ]
     },
     "metadata": {},
     "output_type": "display_data"
    }
   ],
   "source": [
    "import tensorflow as tf\n",
    "from functools import partial\n",
    "import matplotlib.pyplot as plt\n",
    "import numpy as np\n",
    "#MNIST\n",
    "n_inputs=28*28\n",
    "n_hidden1=300\n",
    "n_hidden2=150\n",
    "n_hidden3=n_hidden1\n",
    "n_outputs=n_inputs\n",
    "\n",
    "n_epochs=100\n",
    "batch_size=150\n",
    "\n",
    "learning_rate=0.01\n",
    "l2_reg=0.000001\n",
    "\n",
    "# KL divergence\n",
    "def kl_divergence(p,q):\n",
    "    return p*tf.log(tf.clip_by_value(p/q,1e-10,1.0))+ \\\n",
    "(1-p)*tf.log(tf.clip_by_value((1-p)/(1-q),1e-10,1.0))\n",
    "\n",
    "sparsity_target=0.1\n",
    "sparsity_weight=0.1\n",
    "\n",
    "\n",
    "#or use the handy tf dense function\n",
    "tf.reset_default_graph()\n",
    "\n",
    "activation=tf.nn.elu\n",
    "regularizer=tf.contrib.layers.l2_regularizer(l2_reg)\n",
    "initializer=tf.contrib.layers.variance_scaling_initializer()\n",
    "\n",
    "\n",
    "X=tf.placeholder(tf.float32,shape=[None,n_inputs])\n",
    "\n",
    "\n",
    "weights1_init=initializer([n_inputs,n_hidden1])\n",
    "weights2_init=initializer([n_hidden1,n_hidden2])\n",
    "\n",
    "weights1=tf.Variable(weights1_init,dtype=tf.float32,name=\"weights1\")\n",
    "weights2=tf.Variable(weights2_init,dtype=tf.float32,name=\"weights2\")\n",
    "weights3=tf.transpose(weights2,name=\"weights3\")\n",
    "weights4=tf.transpose(weights1,name=\"weights4\")\n",
    "\n",
    "biases1=tf.Variable(tf.zeros(n_hidden1),name=\"biases1\")\n",
    "biases2=tf.Variable(tf.zeros(n_hidden2),name=\"biases2\")\n",
    "biases3=tf.Variable(tf.zeros(n_hidden3),name=\"biases3\")\n",
    "biases4=tf.Variable(tf.zeros(n_outputs),name=\"biases4\")\n",
    "\n",
    "with tf.device('/gpu:0'):\n",
    "    hidden1=activation(tf.matmul(X,weights1)+biases1)\n",
    "    hidden2=activation(tf.matmul(hidden1,weights2)+biases2)\n",
    "with tf.device('/gpu:1'):    \n",
    "    hidden3=activation(tf.matmul(hidden2,weights3)+biases3)\n",
    "    outputs=tf.matmul(hidden3,weights4)+biases4\n",
    "\n",
    "reconstruction_loss=tf.reduce_mean(tf.square(outputs-X))\n",
    "hidden2_mean=tf.reduce_mean(hidden2,axis=0)\n",
    "sparsity_loss=tf.reduce_sum(kl_divergence(sparsity_target,hidden2_mean))\n",
    "reg_loss=regularizer(weights1)+regularizer(weights2)\n",
    "loss=reconstruction_loss+reg_loss+sparsity_loss*sparsity_weight\n",
    "\n",
    "optimizer=tf.train.AdadeltaOptimizer(learning_rate)\n",
    "training_op=optimizer.minimize(loss)\n",
    "\n",
    "init=tf.global_variables_initializer()\n",
    "saver=tf.train.Saver()\n",
    "\n",
    "n_test_digits=5\n",
    "plot_list=np.random.choice(X_test.shape[0],n_test_digits, replace=False)\n",
    "X_test_plot=X_test[plot_list]\n",
    "\n",
    "with tf.Session() as sess:\n",
    "    init.run()\n",
    "    try:\n",
    "        saver.restore(sess, \"model_checkpoints/mnist_auto_encoder_sparsity.ckpt\")\n",
    "    except:\n",
    "        print(\"Model is not compatible with the checkpoint or does not exist\")\n",
    "        init.run()\n",
    "    for epoch in range(n_epochs):\n",
    "        for iteration in range(mnist.train.num_examples//batch_size):\n",
    "            X_batch,y_batch=mnist.train.next_batch(batch_size)\n",
    "            sess.run(training_op,feed_dict={X:X_batch})\n",
    "        train_mse=loss.eval(feed_dict={X:X_train})\n",
    "        test_mse=loss.eval(feed_dict={X:X_test})\n",
    "        print(epoch,\"Train MSE: \",train_mse,\" Test MSE: \",test_mse,end=\"\\r\")\n",
    "#         print(hidden2_mean.eval(feed_dict={X:X_test_plot}))\n",
    "#         print(sparsity_loss.eval(feed_dict={X:X_test_plot}))\n",
    "    save_path=saver.save(sess,\"model_checkpoints/mnist_auto_encoder_sparsity.ckpt\")\n",
    "    outputs_val=outputs.eval(feed_dict={X:X_test_plot})\n",
    "\n",
    "def plot_image(image,shape=[28,28]):\n",
    "    plt.imshow(image.reshape(shape),cmap=\"Greys\",interpolation=\"nearest\")\n",
    "    plt.axis(\"off\")\n",
    "\n",
    "for digit_index in range(n_test_digits):\n",
    "    plt.subplot(n_test_digits,2,digit_index*2+1)\n",
    "    plot_image(X_test_plot[digit_index])\n",
    "    plt.subplot(n_test_digits,2,digit_index*2+2)\n",
    "    plot_image(outputs_val[digit_index])"
   ]
  },
  {
   "cell_type": "code",
   "execution_count": null,
   "metadata": {},
   "outputs": [],
   "source": []
  },
  {
   "cell_type": "code",
   "execution_count": null,
   "metadata": {},
   "outputs": [],
   "source": []
  },
  {
   "cell_type": "code",
   "execution_count": null,
   "metadata": {},
   "outputs": [],
   "source": []
  },
  {
   "cell_type": "code",
   "execution_count": null,
   "metadata": {},
   "outputs": [],
   "source": []
  },
  {
   "cell_type": "code",
   "execution_count": null,
   "metadata": {},
   "outputs": [],
   "source": []
  }
 ],
 "metadata": {
  "kernelspec": {
   "display_name": "Python 3",
   "language": "python",
   "name": "python3"
  },
  "language_info": {
   "codemirror_mode": {
    "name": "ipython",
    "version": 3
   },
   "file_extension": ".py",
   "mimetype": "text/x-python",
   "name": "python",
   "nbconvert_exporter": "python",
   "pygments_lexer": "ipython3",
   "version": "3.6.4"
  }
 },
 "nbformat": 4,
 "nbformat_minor": 2
}
