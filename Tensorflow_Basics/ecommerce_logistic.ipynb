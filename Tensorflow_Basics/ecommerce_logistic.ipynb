{
 "cells": [
  {
   "cell_type": "code",
   "execution_count": 11,
   "metadata": {
    "collapsed": true
   },
   "outputs": [],
   "source": [
    "import numpy as np\n",
    "import pandas as pd\n",
    "import os\n",
    "from IPython.display import clear_output"
   ]
  },
  {
   "cell_type": "code",
   "execution_count": 12,
   "metadata": {
    "collapsed": true
   },
   "outputs": [],
   "source": [
    "def get_data():\n",
    "  df = pd.read_csv('ecommerce_data.csv')\n",
    "  data = df.as_matrix() #convert to numpy array\n",
    "  # shuffle it\n",
    "  np.random.shuffle(data)\n",
    "\n",
    "  # split features and labels\n",
    "  X = data[:,:-1] # till the last column\n",
    "  Y = data[:,-1].astype(np.int32)\n",
    "\n",
    "  # one-hot encode the categorical data\n",
    "  # create a new matrix X2 with the correct number of columns\n",
    "  N, D = X.shape\n",
    "  X2 = np.zeros((N, D+3))\n",
    "  X2[:,0:(D-1)] = X[:,0:(D-1)] # non-categorical\n",
    "\n",
    "  # one-hot\n",
    "  for n in range(N):\n",
    "      t = int(X[n,D-1])\n",
    "      X2[n,t+D-1] = 1\n",
    "\n",
    "  # assign X2 back to X, since we don't need original anymore\n",
    "  X = X2\n",
    "\n",
    "  # split train and test\n",
    "  Xtrain = X[:-100]\n",
    "  Ytrain = Y[:-100]\n",
    "  Xtest = X[-100:]\n",
    "  Ytest = Y[-100:]\n",
    "\n",
    "  # normalize columns 1 and 2\n",
    "  for i in (1, 2):\n",
    "    m = Xtrain[:,i].mean()\n",
    "    s = Xtrain[:,i].std()\n",
    "    Xtrain[:,i] = (Xtrain[:,i] - m) / s\n",
    "    Xtest[:,i] = (Xtest[:,i] - m) / s\n",
    "\n",
    "  return Xtrain, Ytrain, Xtest, Ytest"
   ]
  },
  {
   "cell_type": "code",
   "execution_count": 13,
   "metadata": {
    "collapsed": true
   },
   "outputs": [],
   "source": [
    "def get_binary_data():\n",
    "  # return only the data from the first 2 classes\n",
    "  # processing logic: keeps only the y value with 0 or 1\n",
    "  Xtrain, Ytrain, Xtest, Ytest = get_data()\n",
    "  X2train = Xtrain[Ytrain <= 1]\n",
    "  Y2train = Ytrain[Ytrain <= 1]\n",
    "  X2test = Xtest[Ytest <= 1]\n",
    "  Y2test = Ytest[Ytest <= 1]\n",
    "  return X2train, Y2train, X2test, Y2test"
   ]
  },
  {
   "cell_type": "code",
   "execution_count": 14,
   "metadata": {
    "collapsed": true
   },
   "outputs": [],
   "source": [
    "import numpy as np\n",
    "import matplotlib.pyplot as plt\n",
    "from sklearn.utils import shuffle"
   ]
  },
  {
   "cell_type": "code",
   "execution_count": 15,
   "metadata": {
    "collapsed": true
   },
   "outputs": [],
   "source": [
    "#calculations in the feedforward network\n",
    "def sigmoid(a):\n",
    "    return 1 / (1 + np.exp(-a))\n",
    "def forward(X, W, b):\n",
    "    return sigmoid(X.dot(W) + b)"
   ]
  },
  {
   "cell_type": "code",
   "execution_count": 16,
   "metadata": {
    "collapsed": true
   },
   "outputs": [],
   "source": [
    "# calculate the accuracy\n",
    "def classification_rate(Y, P):\n",
    "    return np.mean(Y == P)\n",
    "# cross entropy\n",
    "def cross_entropy(T, pY):\n",
    "    return -np.mean(T*np.log(pY) + (1 - T)*np.log(1 - pY))"
   ]
  },
  {
   "cell_type": "code",
   "execution_count": 17,
   "metadata": {
    "collapsed": true
   },
   "outputs": [],
   "source": [
    "# main training loop\n",
    "def main():\n",
    "    # get the data\n",
    "    Xtrain, Ytrain, Xtest, Ytest = get_binary_data()\n",
    "    # randomly initialize weights\n",
    "    D = Xtrain.shape[1] #get the number of columns\n",
    "    W = np.random.randn(D) # only one output node Dimension is D x 1\n",
    "    b = 0 # bias term\n",
    "    train_costs=[]\n",
    "    test_costs=[]\n",
    "    learning_rate=0.00001\n",
    "    for i in range(100001):\n",
    "        pYtrain=forward(Xtrain,W,b)\n",
    "        pYtest=forward(Xtest,W,b)\n",
    "        ctrain=cross_entropy(Ytrain,pYtrain)\n",
    "        ctest=cross_entropy(Ytest,pYtest)\n",
    "        train_costs.append(ctrain)\n",
    "        test_costs.append(ctest)\n",
    "        \n",
    "        #Gradient descent\n",
    "        W-=learning_rate*Xtrain.T.dot(pYtrain-Ytrain)\n",
    "        b-=learning_rate*(pYtrain-Ytrain).sum()\n",
    "        if i%10000==0:\n",
    "            clear_output(wait=True)\n",
    "            print(\"loop: \",i,\"\\ntraining cost: \",ctrain,\"\\ntesting cost: \",ctest)\n",
    "    legend1, = plt.plot(train_costs, label='train cost')\n",
    "    legend2, = plt.plot(test_costs, label='test cost')\n",
    "    plt.legend([legend1, legend2])\n",
    "    plt.show()\n"
   ]
  },
  {
   "cell_type": "code",
   "execution_count": 18,
   "metadata": {
    "scrolled": true
   },
   "outputs": [
    {
     "name": "stdout",
     "output_type": "stream",
     "text": [
      "loop:  100000 \n",
      "training cost:  0.152240070356 \n",
      "testing cost:  0.304102564599\n"
     ]
    },
    {
     "data": {
      "image/png": "[encoded data removed]",
      "text/plain": [
       "<matplotlib.figure.Figure at 0x17977d85e80>"
      ]
     },
     "metadata": {},
     "output_type": "display_data"
    }
   ],
   "source": [
    "if __name__ == '__main__':\n",
    "    main()"
   ]
  },
  {
   "cell_type": "code",
   "execution_count": null,
   "metadata": {
    "collapsed": true
   },
   "outputs": [],
   "source": []
  },
  {
   "cell_type": "code",
   "execution_count": null,
   "metadata": {
    "collapsed": true
   },
   "outputs": [],
   "source": []
  },
  {
   "cell_type": "code",
   "execution_count": null,
   "metadata": {
    "collapsed": true
   },
   "outputs": [],
   "source": []
  },
  {
   "cell_type": "code",
   "execution_count": null,
   "metadata": {
    "collapsed": true
   },
   "outputs": [],
   "source": []
  }
 ],
 "metadata": {
  "kernelspec": {
   "display_name": "Python 3",
   "language": "python",
   "name": "python3"
  },
  "language_info": {
   "codemirror_mode": {
    "name": "ipython",
    "version": 3
   },
   "file_extension": ".py",
   "mimetype": "text/x-python",
   "name": "python",
   "nbconvert_exporter": "python",
   "pygments_lexer": "ipython3",
   "version": "3.6.3"
  }
 },
 "nbformat": 4,
 "nbformat_minor": 2
}
