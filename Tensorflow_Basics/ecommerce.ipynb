{
 "cells": [
  {
   "cell_type": "code",
   "execution_count": 1,
   "metadata": {
    "collapsed": true
   },
   "outputs": [],
   "source": [
    "import numpy as np\n",
    "import pandas as pd"
   ]
  },
  {
   "cell_type": "code",
   "execution_count": 2,
   "metadata": {},
   "outputs": [
    {
     "data": {
      "text/plain": [
       "(500, 6)"
      ]
     },
     "execution_count": 2,
     "metadata": {},
     "output_type": "execute_result"
    }
   ],
   "source": [
    "df=pd.read_csv('ecommerce_data.csv')\n",
    "df.head()\n",
    "df.shape"
   ]
  },
  {
   "cell_type": "code",
   "execution_count": 3,
   "metadata": {},
   "outputs": [],
   "source": [
    "def get_data():\n",
    "    df=pd.read_csv('ecommerce_data.csv')\n",
    "    data=df.as_matrix()\n",
    "    X=data[:,:-1]\n",
    "    Y=data[:,-1]\n",
    "    #normalize the numerical fields\n",
    "    X[:,1]=(X[:,1]-X[:,1].mean())/X[:,1].std()\n",
    "    X[:,2]=(X[:,2]-X[:,2].mean())/X[:,2].std()\n",
    "    N,D=X.shape\n",
    "    X2=np.zeros((N,D+3))\n",
    "    X2[:,0:(D-1)]=X[:,0:(D-1)]\n",
    "    \n",
    "    #one hot encoding\n",
    "    for n in range(N):\n",
    "        t=int(X[n,D-1])\n",
    "        X2[n,t+D-1]=1\n",
    "        \n",
    "    #or\n",
    "    Z=np.zeros((N,4))\n",
    "    Z[np.arange(N),X[:,D-1].astype(np.int32)]=1\n",
    "    assert(np.abs(X2[:,-4:]-Z).sum()<10e-10)\n",
    "    return X2,Y\n",
    "\n",
    "def get_binary_data():\n",
    "    X,Y=get_data()\n",
    "    # enoding the purchase behavior\n",
    "    X2=X[Y<=1]\n",
    "    Y2=Y[Y<=1]\n",
    "    return X2,Y2"
   ]
  },
  {
   "cell_type": "code",
   "execution_count": 4,
   "metadata": {},
   "outputs": [
    {
     "data": {
      "text/plain": [
       "array([[ 1.        , -0.81697841, -0.40827769, ...,  0.        ,\n",
       "         0.        ,  1.        ],\n",
       "       [ 1.        ,  0.13967078, -0.4994283 , ...,  0.        ,\n",
       "         1.        ,  0.        ],\n",
       "       [ 1.        , -0.81697841, -1.03884323, ...,  1.        ,\n",
       "         0.        ,  0.        ],\n",
       "       ..., \n",
       "       [ 0.        , -0.81697841, -0.90498762, ...,  0.        ,\n",
       "         0.        ,  1.        ],\n",
       "       [ 1.        , -0.81697841, -0.86695367, ...,  0.        ,\n",
       "         0.        ,  1.        ],\n",
       "       [ 0.        , -0.81697841,  1.59982383, ...,  0.        ,\n",
       "         0.        ,  1.        ]])"
      ]
     },
     "execution_count": 4,
     "metadata": {},
     "output_type": "execute_result"
    }
   ],
   "source": [
    "get_data()[0]"
   ]
  },
  {
   "cell_type": "code",
   "execution_count": 5,
   "metadata": {},
   "outputs": [
    {
     "data": {
      "text/plain": [
       "(398,)"
      ]
     },
     "execution_count": 5,
     "metadata": {},
     "output_type": "execute_result"
    }
   ],
   "source": [
    "get_binary_data()[0].shape\n",
    "get_binary_data()[1].shape"
   ]
  },
  {
   "cell_type": "code",
   "execution_count": 6,
   "metadata": {
    "collapsed": true
   },
   "outputs": [],
   "source": [
    "X,Y=get_data()"
   ]
  },
  {
   "cell_type": "code",
   "execution_count": 7,
   "metadata": {},
   "outputs": [],
   "source": [
    "M=5\n",
    "D=X.shape[1]\n",
    "K=len(set(Y))\n",
    "W1=np.random.randn(D,M)\n",
    "b1=np.zeros(M)\n",
    "W2=np.random.randn(M,K)\n",
    "b2=np.zeros(K)\n",
    "\n"
   ]
  },
  {
   "cell_type": "code",
   "execution_count": 8,
   "metadata": {
    "collapsed": true
   },
   "outputs": [],
   "source": [
    "def softmax(a):\n",
    "    expA=np.exp(a)\n",
    "    return expA/expA.sum(axis=1,keepdims=True)\n"
   ]
  },
  {
   "cell_type": "code",
   "execution_count": 9,
   "metadata": {
    "collapsed": true
   },
   "outputs": [],
   "source": [
    "def forward(X,W1,b1,W2,b2):\n",
    "    Z=np.tanh(X.dot(W1)+b1)\n",
    "    return softmax(Z.dot(W2)+b2)\n",
    "\n",
    "P_Y_given_X=forward(X,W1,b1,W2,b2)\n",
    "predictions=np.argmax(P_Y_given_X,axis=1)\n"
   ]
  },
  {
   "cell_type": "code",
   "execution_count": 10,
   "metadata": {
    "collapsed": true
   },
   "outputs": [],
   "source": [
    "def classification_rate(Y,P):\n",
    "    return np.mean(Y==P)"
   ]
  },
  {
   "cell_type": "code",
   "execution_count": 11,
   "metadata": {},
   "outputs": [
    {
     "name": "stdout",
     "output_type": "stream",
     "text": [
      "Score : 0.236\n"
     ]
    }
   ],
   "source": [
    "print(\"Score : {0}\".format(classification_rate(Y,predictions)))"
   ]
  },
  {
   "cell_type": "code",
   "execution_count": null,
   "metadata": {
    "collapsed": true
   },
   "outputs": [],
   "source": []
  }
 ],
 "metadata": {
  "kernelspec": {
   "display_name": "Python 3",
   "language": "python",
   "name": "python3"
  },
  "language_info": {
   "codemirror_mode": {
    "name": "ipython",
    "version": 3
   },
   "file_extension": ".py",
   "mimetype": "text/x-python",
   "name": "python",
   "nbconvert_exporter": "python",
   "pygments_lexer": "ipython3",
   "version": "3.6.3"
  }
 },
 "nbformat": 4,
 "nbformat_minor": 2
}
