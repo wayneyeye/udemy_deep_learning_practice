{
 "cells": [
  {
   "cell_type": "code",
   "execution_count": 1,
   "metadata": {},
   "outputs": [],
   "source": [
    "import tensorflow as tf\n",
    "from datetime import datetime\n",
    "# linear regression\n",
    "import numpy as np\n",
    "from sklearn.datasets import fetch_california_housing"
   ]
  },
  {
   "cell_type": "code",
   "execution_count": 2,
   "metadata": {},
   "outputs": [],
   "source": [
    "# get the housing data\n",
    "housing=fetch_california_housing()\n",
    "m,n=housing.data.shape\n",
    "housing_data_plus_bias=np.c_[np.ones((m,1)),housing.data]"
   ]
  },
  {
   "cell_type": "code",
   "execution_count": 7,
   "metadata": {},
   "outputs": [
    {
     "data": {
      "text/plain": [
       "20640"
      ]
     },
     "execution_count": 7,
     "metadata": {},
     "output_type": "execute_result"
    }
   ],
   "source": [
    "m"
   ]
  },
  {
   "cell_type": "code",
   "execution_count": 3,
   "metadata": {},
   "outputs": [],
   "source": [
    "# define a function to fetch a batch of data from the original set\n",
    "def fetch_batch(X_train,y_train,batch_index,batch_size):\n",
    "    start=batch_index*batch_size\n",
    "    end=start+batch_size\n",
    "    X_batch=X_train[start:end]\n",
    "    y_batch=y_train[start:end]\n",
    "    return X_batch,y_batch"
   ]
  },
  {
   "cell_type": "code",
   "execution_count": 21,
   "metadata": {
    "scrolled": true
   },
   "outputs": [
    {
     "name": "stderr",
     "output_type": "stream",
     "text": [
      "100%|██████████| 1000/1000 [00:03<00:00, 292.72it/s]\n"
     ]
    },
    {
     "name": "stdout",
     "output_type": "stream",
     "text": [
      "[[ 0.5041466 ]\n",
      " [ 0.8296212 ]\n",
      " [ 0.11875194]\n",
      " [-0.26553035]\n",
      " [ 0.3056991 ]\n",
      " [-0.00450293]\n",
      " [-0.03932634]\n",
      " [-0.89988196]\n",
      " [-0.8705375 ]]\n"
     ]
    }
   ],
   "source": [
    "# with a saver node\n",
    "from sklearn.utils import shuffle\n",
    "from tqdm import tqdm\n",
    "import os\n",
    "from sklearn.preprocessing import scale\n",
    "\n",
    "#hyper parameters\n",
    "n_epochs=1000\n",
    "learning_rate=0.01\n",
    "batch_size=m\n",
    "\n",
    "# tf model construction\n",
    "tf.reset_default_graph()\n",
    "X_train = scale( housing_data_plus_bias, axis=0, with_mean=True, with_std=True, copy=True )\n",
    "y_train = housing.target.reshape(-1,1)\n",
    "X=tf.placeholder(tf.float32,shape=(None,n+1),name=\"X\")\n",
    "y=tf.placeholder(tf.float32,shape=(None,1),name=\"y\")\n",
    "theta=tf.Variable(tf.random_uniform([n+1,1],-1.0,1.0),name=\"theta\")\n",
    "y_pred=tf.matmul(X,theta,name=\"predictions\")\n",
    "error=y_pred-y\n",
    "mse=tf.reduce_mean(tf.square(error),name=\"mse\")\n",
    "mse_summary=tf.summary.scalar('MSE',mse)\n",
    "optimizer=tf.train.MomentumOptimizer(learning_rate=learning_rate,momentum=0.9)\n",
    "training_op=optimizer.minimize(mse)\n",
    "init=tf.global_variables_initializer()\n",
    "\n",
    "# log writer\n",
    "now=datetime.utcnow().strftime(\"%Y%m%d%H%M%S\")\n",
    "root_logdir=\"tf_logs\"\n",
    "logdir=\"{}/run-{}/\".format(root_logdir,now)\n",
    "file_writer=tf.summary.FileWriter(logdir,tf.get_default_graph())\n",
    "\n",
    "# call tf session\n",
    "\n",
    "with tf.Session() as sess:\n",
    "    sess.run(init)\n",
    "    n_batches=int(np.ceil(m/batch_size))\n",
    "    for epoch in tqdm(range(n_epochs)):\n",
    "        X_train,y_train=shuffle(X_train,y_train)\n",
    "        for batch_index in range(n_batches):\n",
    "            X_batch,y_batch=fetch_batch(X_train,y_train,batch_index,batch_size)\n",
    "            if batch_index % 1 ==0:\n",
    "                summary_str=mse_summary.eval(feed_dict={X:X_batch,y:y_batch})\n",
    "                step=epoch*n_batches+batch_index\n",
    "                file_writer.add_summary(summary_str,step)\n",
    "            sess.run(training_op,feed_dict={X:X_batch,y:y_batch})\n",
    "    best_theta=theta.eval()\n",
    "print(best_theta)"
   ]
  },
  {
   "cell_type": "code",
   "execution_count": 14,
   "metadata": {},
   "outputs": [
    {
     "data": {
      "text/plain": [
       "999"
      ]
     },
     "execution_count": 14,
     "metadata": {},
     "output_type": "execute_result"
    }
   ],
   "source": [
    "step"
   ]
  },
  {
   "cell_type": "code",
   "execution_count": null,
   "metadata": {},
   "outputs": [],
   "source": [
    "file_writer.close()"
   ]
  }
 ],
 "metadata": {
  "kernelspec": {
   "display_name": "Python 3",
   "language": "python",
   "name": "python3"
  },
  "language_info": {
   "codemirror_mode": {
    "name": "ipython",
    "version": 3
   },
   "file_extension": ".py",
   "mimetype": "text/x-python",
   "name": "python",
   "nbconvert_exporter": "python",
   "pygments_lexer": "ipython3",
   "version": "3.6.4"
  }
 },
 "nbformat": 4,
 "nbformat_minor": 2
}
