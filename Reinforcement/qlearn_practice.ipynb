{
 "cells": [
  {
   "cell_type": "code",
   "execution_count": 1,
   "metadata": {},
   "outputs": [],
   "source": [
    "from grid_game import Game\n",
    "import numpy as np\n",
    "import random\n"
   ]
  },
  {
   "cell_type": "code",
   "execution_count": 124,
   "metadata": {},
   "outputs": [],
   "source": [
    "def print_policy():\n",
    "    for i in range(5):\n",
    "        print(\"\",end=\"| \")\n",
    "        for j in range(5):\n",
    "            if (i,j) in Q_table:\n",
    "                best_action=sorted(Q_table[(i,j)].keys(),key=lambda x:Q_table[(i,j)][x],reverse=True)[0]\n",
    "                print(best_action,end=\" | \")\n",
    "            else:\n",
    "                print(\"X\",end=\" | \")\n",
    "        print()\n",
    "        print(\"---------------------\")"
   ]
  },
  {
   "cell_type": "code",
   "execution_count": 125,
   "metadata": {
    "scrolled": true
   },
   "outputs": [
    {
     "name": "stdout",
     "output_type": "stream",
     "text": [
      "total iterations: 123\n",
      "| R | R | D | L | L | \n",
      "---------------------\n",
      "| D | X | D | X | X | \n",
      "---------------------\n",
      "| R | R | R | R | X | \n",
      "---------------------\n",
      "| U | X | X | U | U | \n",
      "---------------------\n",
      "| U | R | R | U | U | \n",
      "---------------------\n"
     ]
    }
   ],
   "source": [
    "Q_table={}\n",
    "update_ct_table={}\n",
    "n_iteration=10000\n",
    "iteration=0\n",
    "gamma=0.9\n",
    "epsilon_0=0.97\n",
    "epsilon_decay=0.0001\n",
    "learning_rate_0=0.5\n",
    "\n",
    "#purely random action with epsilon greedy (off policy)\n",
    "Q_change=1\n",
    "tolerance=0.001\n",
    "for iteration in range(n_iteration):\n",
    "    Game.reset_game()\n",
    "    Q_change=0\n",
    "    steps=0\n",
    "    while not Game.gameover:\n",
    "        if Game.state not in Q_table:\n",
    "            Game.next_step_random()\n",
    "        else:\n",
    "            epsilon=epsilon_0/(1+epsilon_decay*update_ct_table[Game.state])\n",
    "            if random.random()<epsilon:\n",
    "                Game.next_step_random()\n",
    "            else:\n",
    "                best_action=sorted(Q_table[Game.state].keys(),key=lambda x:Q_table[Game.state][x],reverse=True)[0]\n",
    "                Game.next_step(best_action)\n",
    "        steps+=1\n",
    "        if steps>1000:\n",
    "            break\n",
    "    #update Q-table\n",
    "    for s in Game.state_record:\n",
    "        if s not in Q_table:\n",
    "            Q_table[s]={\"U\":0,\"D\":0,\"L\":0,\"R\":0}\n",
    "            update_ct_table[s]=0\n",
    "    index=0\n",
    "    max_index=len(Game.state_record)-1\n",
    "    for s,a,r in zip(Game.state_record,Game.action_record,Game.reward_record):\n",
    "        if index==max_index:\n",
    "            next_Qsa_max=0\n",
    "        else:\n",
    "            next_Qsa_max=max(Q_table[Game.state_record[index+1]].values())\n",
    "        update_ct_table[s]+=1\n",
    "        learning_rate=learning_rate_0/(1+epsilon_decay*update_ct_table[s])\n",
    "        Q_old=Q_table[s][a]\n",
    "        Q_table[s][a]=(1-learning_rate)*Q_table[s][a]+\\\n",
    "        learning_rate*(r+gamma*next_Qsa_max)\n",
    "        Q_change+=abs(Q_old-Q_table[s][a])\n",
    "        index+=1\n",
    "    if Q_change<tolerance:\n",
    "        break\n",
    "print(\"total iterations:\",iteration)\n",
    "print_policy()    \n"
   ]
  },
  {
   "cell_type": "code",
   "execution_count": 88,
   "metadata": {},
   "outputs": [
    {
     "name": "stdout",
     "output_type": "stream",
     "text": [
      "{'U': 0.5130978657817403, 'D': -1.0967877568914237, 'L': -3.8475102139086474, 'R': 0.7428397936750647}\n"
     ]
    }
   ],
   "source": [
    "print(Q_table[(3,3)])"
   ]
  },
  {
   "cell_type": "code",
   "execution_count": 108,
   "metadata": {
    "scrolled": true
   },
   "outputs": [
    {
     "name": "stdout",
     "output_type": "stream",
     "text": [
      "{(4, 0): 478, (3, 0): 336, (2, 0): 252, (1, 0): 251, (0, 0): 167, (0, 1): 85, (0, 2): 82, (2, 1): 176, (2, 2): 92, (4, 1): 274, (4, 2): 129, (4, 3): 96, (3, 3): 45, (3, 4): 46, (1, 2): 94, (2, 3): 50, (0, 3): 68, (4, 4): 92, (0, 4): 82}\n"
     ]
    }
   ],
   "source": [
    "print(update_ct_table)"
   ]
  }
 ],
 "metadata": {
  "kernelspec": {
   "display_name": "Python 3",
   "language": "python",
   "name": "python3"
  },
  "language_info": {
   "codemirror_mode": {
    "name": "ipython",
    "version": 3
   },
   "file_extension": ".py",
   "mimetype": "text/x-python",
   "name": "python",
   "nbconvert_exporter": "python",
   "pygments_lexer": "ipython3",
   "version": "3.6.3"
  }
 },
 "nbformat": 4,
 "nbformat_minor": 2
}
