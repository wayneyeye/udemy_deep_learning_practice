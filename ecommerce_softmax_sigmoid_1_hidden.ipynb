{
 "cells": [
  {
   "cell_type": "code",
   "execution_count": 1,
   "metadata": {
    "collapsed": true
   },
   "outputs": [],
   "source": [
    "import numpy as np\n",
    "import pandas as pd\n",
    "import os\n",
    "from IPython.display import clear_output"
   ]
  },
  {
   "cell_type": "code",
   "execution_count": 17,
   "metadata": {
    "collapsed": true
   },
   "outputs": [],
   "source": [
    "def get_data():\n",
    "  df = pd.read_csv('ecommerce_data.csv')\n",
    "  data = df.as_matrix() #convert to numpy array\n",
    "  # shuffle it\n",
    "  np.random.shuffle(data)\n",
    "\n",
    "  # split features and labels\n",
    "  X = data[:,:-1] # till the last column\n",
    "  Y = data[:,-1].astype(np.int32)\n",
    "\n",
    "  # one-hot encode the categorical data\n",
    "  # create a new matrix X2 with the correct number of columns\n",
    "  N, D = X.shape\n",
    "  X2 = np.zeros((N, D+3))\n",
    "  X2[:,0:(D-1)] = X[:,0:(D-1)] # non-categorical\n",
    "\n",
    "  # one-hot\n",
    "  for n in range(N):\n",
    "      t = int(X[n,D-1])\n",
    "      X2[n,t+D-1] = 1\n",
    "\n",
    "  # assign X2 back to X, since we don't need original anymore\n",
    "  X = X2\n",
    "  Split=50\n",
    "  # split train and test\n",
    "  Xtrain = X[:-Split]\n",
    "  Ytrain = Y[:-Split]\n",
    "  Xtest = X[-Split:]\n",
    "  Ytest = Y[-Split:]\n",
    "\n",
    "  # normalize columns 1 and 2\n",
    "  for i in (1, 2):\n",
    "    m = Xtrain[:,i].mean()\n",
    "    s = Xtrain[:,i].std()\n",
    "    Xtrain[:,i] = (Xtrain[:,i] - m) / s\n",
    "    Xtest[:,i] = (Xtest[:,i] - m) / s\n",
    "\n",
    "  return Xtrain, Ytrain, Xtest, Ytest"
   ]
  },
  {
   "cell_type": "code",
   "execution_count": 19,
   "metadata": {
    "collapsed": true
   },
   "outputs": [],
   "source": [
    "def y2indicator(y, K):\n",
    "    N = len(y)\n",
    "    ind = np.zeros((N, K))\n",
    "    for i in range(N):\n",
    "        ind[i, y[i]] = 1\n",
    "    return ind"
   ]
  },
  {
   "cell_type": "code",
   "execution_count": 20,
   "metadata": {
    "collapsed": true
   },
   "outputs": [],
   "source": [
    "import numpy as np\n",
    "import matplotlib.pyplot as plt\n",
    "from sklearn.utils import shuffle"
   ]
  },
  {
   "cell_type": "code",
   "execution_count": 21,
   "metadata": {
    "collapsed": true
   },
   "outputs": [],
   "source": [
    "#calculations in the feedforward network\n",
    "def softmax(a):\n",
    "    expA = np.exp(a)\n",
    "    return expA / expA.sum(axis=1, keepdims=True)\n",
    "\n",
    "def forward(X, W1, b1, W2, b2):\n",
    "    Z = np.tanh(X.dot(W1) + b1)\n",
    "    return softmax(Z.dot(W2) + b2), Z\n",
    "\n",
    "def predict(P_Y_given_X):\n",
    "    return np.argmax(P_Y_given_X, axis=1)"
   ]
  },
  {
   "cell_type": "code",
   "execution_count": 22,
   "metadata": {
    "collapsed": true
   },
   "outputs": [],
   "source": [
    "# calculate the accuracy\n",
    "def classification_rate(Y, P):\n",
    "    return np.mean(Y == P)\n",
    "# cross entropy\n",
    "def cross_entropy(T, pY):\n",
    "    return -np.mean(T*np.log(pY))"
   ]
  },
  {
   "cell_type": "code",
   "execution_count": 23,
   "metadata": {
    "collapsed": true
   },
   "outputs": [],
   "source": [
    "# main training loop\n",
    "def main():\n",
    "    # get the data\n",
    "    Xtrain, Ytrain, Xtest, Ytest = get_data()\n",
    "    D = Xtrain.shape[1]\n",
    "    K = len(set(Ytrain) | set(Ytest))\n",
    "    M = 15 # num hidden units\n",
    "    # convert to indicator\n",
    "    Ytrain_ind = y2indicator(Ytrain, K)\n",
    "    Ytest_ind = y2indicator(Ytest, K)\n",
    "\n",
    "    # randomly initialize weights\n",
    "    W1 = np.random.randn(D, M)\n",
    "    b1 = np.zeros(M)\n",
    "    W2 = np.random.randn(M, K)\n",
    "    b2 = np.zeros(K)\n",
    "    \n",
    "    train_costs=[]\n",
    "    test_costs=[]\n",
    "    learning_rate=0.0001\n",
    "    for i in range(100001):\n",
    "        pYtrain, Ztrain = forward(Xtrain, W1, b1, W2, b2)\n",
    "        pYtest, Ztest = forward(Xtest, W1, b1, W2, b2)\n",
    "        ctrain=cross_entropy(Ytrain_ind,pYtrain)\n",
    "        ctest=cross_entropy(Ytest_ind,pYtest)\n",
    "        train_costs.append(ctrain)\n",
    "        test_costs.append(ctest)\n",
    "        \n",
    "        # gradient descent\n",
    "        W2 -= learning_rate*Ztrain.T.dot(pYtrain - Ytrain_ind)\n",
    "        b2 -= learning_rate*(pYtrain - Ytrain_ind).sum(axis=0)\n",
    "        dZ = (pYtrain - Ytrain_ind).dot(W2.T) * (1 - Ztrain*Ztrain)\n",
    "        W1 -= learning_rate*Xtrain.T.dot(dZ)\n",
    "        b1 -= learning_rate*dZ.sum(axis=0)\n",
    "        if i%1000==0:\n",
    "            clear_output(wait=True)\n",
    "            print(\"loop: \",i,\"\\ntraining cost: \",ctrain,\"\\ntesting cost: \",ctest)\n",
    "            print(\"Final train classification_rate:\", classification_rate(Ytrain, predict(pYtrain)))\n",
    "            print(\"Final test classification_rate:\", classification_rate(Ytest, predict(pYtest)))\n",
    "    legend1, = plt.plot(train_costs, label='train cost')\n",
    "    legend2, = plt.plot(test_costs, label='test cost')\n",
    "    plt.legend([legend1, legend2])\n",
    "    plt.show()\n"
   ]
  },
  {
   "cell_type": "code",
   "execution_count": 24,
   "metadata": {
    "scrolled": true
   },
   "outputs": [
    {
     "name": "stdout",
     "output_type": "stream",
     "text": [
      "loop:  100000 \n",
      "training cost:  0.00138662671084 \n",
      "testing cost:  0.0381460150384\n",
      "Final train classification_rate: 1.0\n",
      "Final test classification_rate: 0.92\n"
     ]
    },
    {
     "data": {
      "image/png": "[encoded data removed]",
      "text/plain": [
       "<matplotlib.figure.Figure at 0x18d3b798c18>"
      ]
     },
     "metadata": {},
     "output_type": "display_data"
    }
   ],
   "source": [
    "if __name__ == '__main__':\n",
    "    main()"
   ]
  },
  {
   "cell_type": "code",
   "execution_count": null,
   "metadata": {
    "collapsed": true
   },
   "outputs": [],
   "source": []
  },
  {
   "cell_type": "code",
   "execution_count": null,
   "metadata": {
    "collapsed": true
   },
   "outputs": [],
   "source": []
  },
  {
   "cell_type": "code",
   "execution_count": null,
   "metadata": {
    "collapsed": true
   },
   "outputs": [],
   "source": []
  },
  {
   "cell_type": "code",
   "execution_count": null,
   "metadata": {
    "collapsed": true
   },
   "outputs": [],
   "source": []
  }
 ],
 "metadata": {
  "kernelspec": {
   "display_name": "Python 3",
   "language": "python",
   "name": "python3"
  },
  "language_info": {
   "codemirror_mode": {
    "name": "ipython",
    "version": 3
   },
   "file_extension": ".py",
   "mimetype": "text/x-python",
   "name": "python",
   "nbconvert_exporter": "python",
   "pygments_lexer": "ipython3",
   "version": "3.6.3"
  }
 },
 "nbformat": 4,
 "nbformat_minor": 2
}
