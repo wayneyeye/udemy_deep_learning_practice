{
 "cells": [
  {
   "cell_type": "code",
   "execution_count": 31,
   "metadata": {},
   "outputs": [],
   "source": [
    "import numpy as np\n",
    "import tensorflow as tf\n",
    "import matplotlib.pyplot as plt\n",
    "from scipy.io import loadmat\n",
    "from sklearn.utils import shuffle\n",
    "from IPython.display import clear_output\n",
    "from datetime import datetime\n",
    "import pandas as pd\n",
    "df=pd.read_csv('sample_images/fer2013.csv', sep=',',header=0)\n",
    "df_train=df[df['Usage']=='Training']\n",
    "df_test=df[df['Usage']!='Training']\n",
    "del df\n",
    "\n",
    "def str2image(x):\n",
    "    return np.fromstring(x,sep=' ')\n",
    "\n",
    "def convertFlat2Image(df):\n",
    "    mat=df['pixels'].as_matrix()\n",
    "    r_mat=np.array([str2image(xi).reshape(48,48,1) for xi in mat])\n",
    "    return r_mat\n",
    "\n",
    "X_train=convertFlat2Image(df_train)\n",
    "X_test=convertFlat2Image(df_test)\n",
    "y_train=df_train['emotion'].as_matrix()\n",
    "y_test=df_test['emotion'].as_matrix()\n",
    "\n",
    "Xtrain=X_train[:28000,]/255\n",
    "Ytrain=y_train[:28000]\n",
    "Xtest=X_test[:7000,]/255\n",
    "Ytest=y_test[:7000]\n"
   ]
  },
  {
   "cell_type": "code",
   "execution_count": 63,
   "metadata": {
    "scrolled": true
   },
   "outputs": [],
   "source": [
    "def ImageAug(Xtrain,Ytrain,aug_size=500,critical_val=1.5):\n",
    "    from keras.preprocessing.image import ImageDataGenerator\n",
    "    import collections\n",
    "    import numpy as np\n",
    "    print(\"Input count :\")\n",
    "    print(collections.Counter(y_train))\n",
    "    cat_dict=dict(collections.Counter(y_train))\n",
    "    max_cat=max(cat_dict.values())\n",
    "    Xtrain_aug = np.empty_like (Xtrain)\n",
    "    Xtrain_aug[:] = Xtrain\n",
    "    Ytrain_aug = np.empty_like (Ytrain)\n",
    "    Ytrain_aug[:] = Ytrain\n",
    "    for k in cat_dict:\n",
    "        total_len=len(Xtrain_aug[Ytrain_aug==k])\n",
    "        Xtrain_extra=np.empty((0,48,48,1))\n",
    "        Ytrain_extra=np.empty(0)\n",
    "        X_k=Xtrain[Ytrain==k]\n",
    "        Y_k=Ytrain[Ytrain==k]\n",
    "        datagen = ImageDataGenerator(\n",
    "        featurewise_center=True,\n",
    "        featurewise_std_normalization=True,\n",
    "        rotation_range=20,\n",
    "        width_shift_range=0.2,\n",
    "        height_shift_range=0.2,\n",
    "        horizontal_flip=True)\n",
    "        datagen.fit(X_k)\n",
    "        for X_batch, y_batch in datagen.flow(X_k,Y_k, batch_size=aug_size):\n",
    "            Xtrain_extra=np.append(Xtrain_extra,X_batch,axis=0)\n",
    "            Ytrain_extra=np.append(Ytrain_extra,y_batch,axis=0)\n",
    "            total_len=total_len+aug_size\n",
    "            if max_cat/total_len<critical_val:\n",
    "                Xtrain_aug=np.append(Xtrain_aug,Xtrain_extra,axis=0)\n",
    "                Ytrain_aug=np.append(Ytrain_aug,Ytrain_extra,axis=0)\n",
    "                del Xtrain_extra\n",
    "                del Ytrain_extra\n",
    "                break\n",
    "    print(\"Output count :\")\n",
    "    print(collections.Counter(Ytrain_aug))\n",
    "    return Xtrain_aug,Ytrain_aug\n",
    "\n",
    "    "
   ]
  },
  {
   "cell_type": "code",
   "execution_count": 64,
   "metadata": {},
   "outputs": [
    {
     "name": "stdout",
     "output_type": "stream",
     "text": [
      "Input count :\n",
      "Counter({3: 7215, 6: 4965, 4: 4830, 2: 4097, 0: 3995, 5: 3171, 1: 436})\n",
      "Output count :\n",
      "Counter({3.0: 7562, 6.0: 5330, 4.0: 5217, 5.0: 5083, 2.0: 4995, 0.0: 4886, 1.0: 4270})\n"
     ]
    }
   ],
   "source": [
    "Xtrain_a,Ytrain_a=ImageAug(Xtrain,Ytrain,aug_size=500,critical_val=1.5)"
   ]
  },
  {
   "cell_type": "code",
   "execution_count": null,
   "metadata": {},
   "outputs": [],
   "source": []
  }
 ],
 "metadata": {
  "kernelspec": {
   "display_name": "Python 3",
   "language": "python",
   "name": "python3"
  },
  "language_info": {
   "codemirror_mode": {
    "name": "ipython",
    "version": 3
   },
   "file_extension": ".py",
   "mimetype": "text/x-python",
   "name": "python",
   "nbconvert_exporter": "python",
   "pygments_lexer": "ipython3",
   "version": "3.6.3"
  }
 },
 "nbformat": 4,
 "nbformat_minor": 2
}
