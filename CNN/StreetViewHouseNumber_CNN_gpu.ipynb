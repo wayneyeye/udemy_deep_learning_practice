{
 "cells": [
  {
   "cell_type": "code",
   "execution_count": 1,
   "metadata": {},
   "outputs": [
    {
     "name": "stderr",
     "output_type": "stream",
     "text": [
      "d:\\ProgramData\\Anaconda3\\lib\\site-packages\\h5py\\__init__.py:34: FutureWarning: Conversion of the second argument of issubdtype from `float` to `np.floating` is deprecated. In future, it will be treated as `np.float64 == np.dtype(float).type`.\n",
      "  from ._conv import register_converters as _register_converters\n"
     ]
    },
    {
     "name": "stdout",
     "output_type": "stream",
     "text": [
      "WARNING:tensorflow:From d:\\ProgramData\\Anaconda3\\lib\\site-packages\\tensorflow\\contrib\\learn\\python\\learn\\datasets\\base.py:198: retry (from tensorflow.contrib.learn.python.learn.datasets.base) is deprecated and will be removed in a future version.\n",
      "Instructions for updating:\n",
      "Use the retry module or similar alternatives.\n"
     ]
    }
   ],
   "source": [
    "import numpy as np\n",
    "import tensorflow as tf\n",
    "import matplotlib.pyplot as plt\n",
    "from scipy.io import loadmat\n",
    "from sklearn.utils import shuffle\n",
    "from IPython.display import clear_output\n",
    "from datetime import datetime\n",
    "\n",
    "def flatten(X):\n",
    "    N = X.shape[-1] #matlab is the last dim\n",
    "    flat=np.zeros((N,32*32*3))\n",
    "    for i in range(N):\n",
    "        flat[i]=X[:,:,:,i].reshape(32*32*3)\n",
    "    return flat\n",
    "def error_rate(p,t):\n",
    "    return np.mean(p!=t)\n",
    "\n",
    "\n",
    "def convpool(X,W,b):\n",
    "    conv_out=tf.nn.conv2d(X,W,strides=[1,1,1,1],padding=\"SAME\")\n",
    "    conv_out=tf.nn.bias_add(conv_out,b)\n",
    "    pool_out=tf.nn.max_pool(conv_out,ksize=[1,2,2,1],strides=[1,2,2,1],padding='SAME')\n",
    "    return pool_out\n",
    "\n",
    "def init_filter(shape,poolsz):\n",
    "    w=np.random.randn(*shape)/np.sqrt(np.prod(shape[:-1])+shape[-1]*np.prod(shape[:-2]/np.prod(poolsz)))\n",
    "    return w.astype(np.float32)\n",
    "\n",
    "def init_dense(shape):\n",
    "    w=np.random.randn(*shape)/np.sqrt(np.sum(shape))\n",
    "    return w.astype(np.float32)\n",
    "\n",
    "def rearrange(X):\n",
    "    N=X.shape[-1] #matlab's N\n",
    "    out=np.zeros((N,32,32,3),dtype=np.float32)\n",
    "    for i in range(N):\n",
    "        for j in range(3):\n",
    "            out[i,:,:,j]=X[:,:,j,i]\n",
    "    return out/255\n",
    "\n",
    "from functools import partial\n",
    "he_init = tf.contrib.layers.variance_scaling_initializer(mode=\"FAN_AVG\") # he init method\n",
    "scale=0.0001\n",
    "my_dense=partial(tf.layers.dense,activation=tf.nn.elu,\n",
    "                 kernel_regularizer=tf.contrib.layers.l1_regularizer(scale),\n",
    "                 kernel_initializer=he_init)\n"
   ]
  },
  {
   "cell_type": "code",
   "execution_count": 22,
   "metadata": {},
   "outputs": [],
   "source": [
    "def main():\n",
    "    train=loadmat('sample_images/train_32x32.mat') #73257 instances\n",
    "    test=loadmat('sample_images/test_32x32.mat') #26032 instances\n",
    "\n",
    "    Xtrain=rearrange(train['X'])\n",
    "    Ytrain=train['y'].flatten()-1\n",
    "    del train\n",
    "    #shuffle\n",
    "    Xtrain,Ytrain=shuffle(Xtrain,Ytrain)\n",
    "\n",
    "    Xtest=rearrange(test['X'])\n",
    "    Ytest=test['y'].flatten()-1\n",
    "    del test\n",
    "\n",
    "    Xtrain=Xtrain[:73000,]\n",
    "    Ytrain=Ytrain[:73000]\n",
    "    Xtest=Xtest[:26000,]\n",
    "    Ytest=Ytest[:26000]\n",
    "    n_epochs=50\n",
    "    N=Xtrain.shape[0]\n",
    "    batch_sz=300\n",
    "    n_batches=N//batch_sz\n",
    "    pool_sz=(2,2)\n",
    "\n",
    "    learning_rate=0.0005\n",
    "    tf.reset_default_graph()\n",
    "    # cnn_pool layer 1\n",
    "    W1_shape=(5,5,3,20)\n",
    "    W1_init=init_filter(W1_shape,pool_sz)\n",
    "    b1_init=np.zeros(W1_shape[-1],dtype=np.float32)\n",
    "\n",
    "    # cnn_pool layer 2\n",
    "    W2_shape=(3,3,20,80)\n",
    "    W2_init=init_filter(W2_shape,pool_sz)\n",
    "    b2_init=np.zeros(W2_shape[-1],dtype=np.float32)\n",
    "\n",
    "\n",
    "    X=tf.placeholder(tf.float32,shape=(None,32,32,3),name=\"X\")\n",
    "    y=tf.placeholder(tf.int64,shape=(None),name=\"y\")\n",
    "\n",
    "    with tf.name_scope(\"cnn\"):\n",
    "        with tf.device(\"/gpu:0\"):\n",
    "            W1=tf.Variable(W1_init.astype(np.float32))\n",
    "            b1=tf.Variable(b1_init.astype(np.float32))\n",
    "            W2=tf.Variable(W2_init.astype(np.float32))\n",
    "            b2=tf.Variable(b2_init.astype(np.float32))\n",
    "            Z1=convpool(X,W1,b1)\n",
    "            Z2=convpool(Z1,W2,b2)\n",
    "\n",
    "    n_hidden1=1000\n",
    "    n_hidden2=n_hidden1//2\n",
    "    n_outputs=10\n",
    "    with tf.name_scope(\"dnn\"):\n",
    "        dropout_rate=0.5\n",
    "        training=tf.placeholder_with_default(False,shape=(),name=\"training\")\n",
    "        with tf.device(\"/gpu:1\"):\n",
    "            Z2_f=tf.contrib.layers.flatten(Z2)\n",
    "\n",
    "            hidden1=my_dense(Z2_f,n_hidden1,name=\"hidden1\",kernel_initializer=he_init,\n",
    "                             activation=tf.nn.elu)\n",
    "            hidden1_drop=tf.layers.dropout(hidden1,dropout_rate,training=training)\n",
    "\n",
    "            hidden2=my_dense(hidden1_drop,n_hidden2,name=\"hidden2\",kernel_initializer=he_init,\n",
    "                             activation=tf.nn.elu)\n",
    "            hidden2_drop=tf.layers.dropout(hidden2,dropout_rate,training=training)\n",
    "            logits=my_dense(hidden2_drop,n_outputs, kernel_regularizer=tf.contrib.layers.l1_regularizer(scale),\n",
    "                     kernel_initializer=he_init,name=\"outputs\")\n",
    "\n",
    "    with tf.name_scope(\"loss\"):\n",
    "        xentropy=tf.nn.sparse_softmax_cross_entropy_with_logits(labels=y,logits=logits)\n",
    "        loss=tf.reduce_mean(xentropy,name=\"loss\")\n",
    "\n",
    "    with tf.name_scope(\"train\"):\n",
    "        optimizer=tf.train.RMSPropOptimizer(learning_rate=learning_rate)\n",
    "        training_op=optimizer.minimize(loss)\n",
    "\n",
    "    with tf.name_scope(\"eval\"):\n",
    "        correct=tf.nn.in_top_k(logits,y,1)\n",
    "        accuracy=tf.reduce_mean(tf.cast(correct,tf.float32))\n",
    "\n",
    "    init=tf.global_variables_initializer()\n",
    "    saver=tf.train.Saver()\n",
    "    train_accuracy_save=[]\n",
    "    test_accuracy_save=[]\n",
    "\n",
    "    with tf.Session() as sess:\n",
    "        init.run()\n",
    "        for epoch in range(n_epochs):\n",
    "            Xtrain,Ytrain=shuffle(Xtrain,Ytrain)\n",
    "            for iteration in range(N//batch_sz):\n",
    "                X_batch,y_batch=(Xtrain[iteration*batch_sz:(iteration*batch_sz+batch_sz),:],\n",
    "                                 Ytrain[iteration*batch_sz:(iteration*batch_sz+batch_sz)])\n",
    "                sess.run(training_op,feed_dict={X:X_batch,y:y_batch,training:True}) # dropout=True\n",
    "    #         print(logits.eval(feed_dict={X:X_batch,y:y_batch}))\n",
    "            acc_train=accuracy.eval(feed_dict={X:X_batch,y:y_batch}) # dropout=True\n",
    "            acc_test=accuracy.eval(feed_dict={X:Xtest,y:Ytest})\n",
    "            clear_output()\n",
    "            print(epoch+1,\"Train accuracy: \",acc_train,\" Test accuracy: \",acc_test,end=\"\\r\")\n",
    "            train_accuracy_save.append(acc_train)\n",
    "            test_accuracy_save.append(acc_test)\n",
    "        save_path=saver.save(sess,\"model_checkpoints/svhn_cnn.ckpt\")\n",
    "\n",
    "    x_number=range(1,len(test_accuracy_save)+1)\n",
    "    plt.plot(x_number, train_accuracy_save, 'r--', x_number,test_accuracy_save)\n",
    "    plt.show()"
   ]
  },
  {
   "cell_type": "code",
   "execution_count": 23,
   "metadata": {},
   "outputs": [
    {
     "name": "stdout",
     "output_type": "stream",
     "text": [
      "50 Train accuracy:  0.97  Test accuracy:  0.8945\r"
     ]
    },
    {
     "data": {
      "image/png": "[encoded data removed]",
      "text/plain": [
       "<matplotlib.figure.Figure at 0x20a35a119b0>"
      ]
     },
     "metadata": {},
     "output_type": "display_data"
    }
   ],
   "source": [
    "if __name__ == \"__main__\":\n",
    "    main()"
   ]
  },
  {
   "cell_type": "code",
   "execution_count": null,
   "metadata": {
    "collapsed": true
   },
   "outputs": [],
   "source": []
  }
 ],
 "metadata": {
  "kernelspec": {
   "display_name": "Python 3",
   "language": "python",
   "name": "python3"
  },
  "language_info": {
   "codemirror_mode": {
    "name": "ipython",
    "version": 3
   },
   "file_extension": ".py",
   "mimetype": "text/x-python",
   "name": "python",
   "nbconvert_exporter": "python",
   "pygments_lexer": "ipython3",
   "version": "3.6.3"
  }
 },
 "nbformat": 4,
 "nbformat_minor": 2
}
